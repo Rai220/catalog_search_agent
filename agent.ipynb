{
 "cells": [
  {
   "cell_type": "markdown",
   "metadata": {},
   "source": [
    "# Инициализируем подключение к GigaChat"
   ]
  },
  {
   "cell_type": "code",
   "execution_count": 3,
   "metadata": {},
   "outputs": [
    {
     "data": {
      "text/plain": [
       "'Здравствуйте! Рад вас видеть. Как ваши дела?'"
      ]
     },
     "execution_count": 3,
     "metadata": {},
     "output_type": "execute_result"
    }
   ],
   "source": [
    "from dotenv import find_dotenv, load_dotenv\n",
    "from langchain_gigachat import GigaChat\n",
    "\n",
    "load_dotenv(find_dotenv())\n",
    "giga = GigaChat(model=\"GigaChat-Max\", profanity_check=False, verify_ssl_certs=False)\n",
    "giga.invoke(\"Привет!\").content"
   ]
  },
  {
   "cell_type": "markdown",
   "metadata": {},
   "source": [
    "# Загружаем структурированные данные"
   ]
  },
  {
   "cell_type": "code",
   "execution_count": 5,
   "metadata": {},
   "outputs": [
    {
     "data": {
      "text/plain": [
       "48"
      ]
     },
     "execution_count": 5,
     "metadata": {},
     "output_type": "execute_result"
    }
   ],
   "source": [
    "from stuff_utils import StuffDesc\n",
    "import json\n",
    "\n",
    "with open('stuff_desc_list.json', 'r') as file:\n",
    "    stuff_desc_list = json.load(file)\n",
    "\n",
    "stuff_desc_objects = [StuffDesc(**desc) for desc in stuff_desc_list]\n",
    "len(stuff_desc_objects)"
   ]
  },
  {
   "cell_type": "markdown",
   "metadata": {},
   "source": [
    "# Создаем интсрумент поиска по базе данных"
   ]
  },
  {
   "cell_type": "code",
   "execution_count": 16,
   "metadata": {},
   "outputs": [],
   "source": [
    "from typing import Literal, List\n",
    "from langchain_core.tools import tool\n",
    "\n",
    "\n",
    "@tool\n",
    "def search_stuff(\n",
    "    brand: str = None,\n",
    "    max_price: float = None,\n",
    "    min_store_temperature: int = None,\n",
    "    max_store_temperature: int = None,\n",
    "    shelf_life: int = None,\n",
    "    type_of_packing: str = None,\n",
    "    mass_fraction_of_fat_min: float = None,\n",
    "    mass_fraction_of_fat_max: float = None\n",
    ") -> List[StuffDesc]:\n",
    "    \"\"\"Выполняет поиск по базе данных продуктов.\n",
    "type_of_packing - должно иметь только одно из этих значений: [\"пластиковая бутылка\", \"стеклянная бутылка\", \"пакет\", \"железная банка\", \"алюминиевая банка\", \"коробка\", \"другое\"]\n",
    "\"\"\"\n",
    "    results = []\n",
    "    for stuff in stuff_desc_objects:\n",
    "        if (brand is None or stuff.brand == brand) and \\\n",
    "           (max_price is None or stuff.price <= max_price) and \\\n",
    "           (min_store_temperature is None or stuff.min_store_temperature >= min_store_temperature) and \\\n",
    "           (max_store_temperature is None or stuff.max_store_temperature <= max_store_temperature) and \\\n",
    "           (shelf_life is None or stuff.shelf_life >= shelf_life) and \\\n",
    "           (type_of_packing is None or stuff.type_of_packing == type_of_packing) and \\\n",
    "           (mass_fraction_of_fat_min is None or stuff.mass_fraction_of_fat_min >= mass_fraction_of_fat_min) and \\\n",
    "           (mass_fraction_of_fat_max is None or stuff.mass_fraction_of_fat_max <= mass_fraction_of_fat_max):\n",
    "            results.append(stuff)\n",
    "    return str(results[0:10]) # Size limit"
   ]
  },
  {
   "cell_type": "markdown",
   "metadata": {},
   "source": [
    "# Создаем ReAct агента с возможностью обращения к поиску"
   ]
  },
  {
   "cell_type": "code",
   "execution_count": 17,
   "metadata": {},
   "outputs": [],
   "source": [
    "from langgraph.prebuilt import create_react_agent\n",
    "\n",
    "tools = [search_stuff]\n",
    "graph = create_react_agent(giga, tools=tools)\n",
    "\n",
    "SYSTEM = \"\"\"Ты помошник по поиску продуктов под запрос пользователя. \n",
    "Для поиска используй функцию для обращения к базе данных search_stuff.\n",
    "Ты можешь вызвать функцию несколько раз, чтобы получить нужный результат.\n",
    "Если результатов поиска больше 4, предупреди пользователя, что запрос слишком общий.\n",
    "\"\"\"\n",
    "\n",
    "def print_stream(stream):\n",
    "    for s in stream:\n",
    "        message = s[\"messages\"][-1]\n",
    "        if isinstance(message, tuple):\n",
    "            print(message)\n",
    "        else:\n",
    "            message.pretty_print()\n",
    "\n",
    "\n",
    "def answer(question):\n",
    "    inputs = {\"messages\": [((\"system\", SYSTEM)), (\"user\", question)]}\n",
    "    print_stream(graph.stream(inputs, stream_mode=\"values\"))"
   ]
  },
  {
   "cell_type": "markdown",
   "metadata": {},
   "source": [
    "# Тестируем агента на референтных вопросах"
   ]
  },
  {
   "cell_type": "code",
   "execution_count": 18,
   "metadata": {},
   "outputs": [
    {
     "name": "stdout",
     "output_type": "stream",
     "text": [
      "================================\u001b[1m Human Message \u001b[0m=================================\n",
      "\n",
      "найди мне молоко с жирностью менее 3.9% в пакете дешевле 100 рублей\n",
      "==================================\u001b[1m Ai Message \u001b[0m==================================\n",
      "Tool Calls:\n",
      "  search_stuff (7524ee26-5bcb-4b5a-945d-becd503ec69d)\n",
      " Call ID: 7524ee26-5bcb-4b5a-945d-becd503ec69d\n",
      "  Args:\n",
      "    mass_fraction_of_fat_max: 3.9\n",
      "    max_price: 100\n",
      "    type_of_packing: пакет\n",
      "=================================\u001b[1m Tool Message \u001b[0m=================================\n",
      "Name: search_stuff\n",
      "\n",
      "[StuffDesc(stuff_id='2', desc='Ультрапастеризованное молоко — молоко длительного хранения.', brand='Лазовское', price=99.1, min_store_temperature=2, max_store_temperature=25, shelf_life=180, type_of_packing='пакет', mass_fraction_of_fat_min=-1.0, mass_fraction_of_fat_max=-1.0), StuffDesc(stuff_id='3', desc='Ультрапастеризованное молоко — молоко длительного хранения.', brand='Лазовское', price=92.35, min_store_temperature=2, max_store_temperature=25, shelf_life=180, type_of_packing='пакет', mass_fraction_of_fat_min=-1.0, mass_fraction_of_fat_max=-1.0), StuffDesc(stuff_id='4', desc='Пастеризованное молоко.', brand='Лазовское', price=56.75, min_store_temperature=2, max_store_temperature=4, shelf_life=10, type_of_packing='пакет', mass_fraction_of_fat_min=3.2, mass_fraction_of_fat_max=3.2), StuffDesc(stuff_id='6', desc='Ультрапастеризованное молоко — молоко длительного хранения.', brand='Лазовское', price=74.7, min_store_temperature=2, max_store_temperature=25, shelf_life=180, type_of_packing='пакет', mass_fraction_of_fat_min=-1.0, mass_fraction_of_fat_max=-1.0), StuffDesc(stuff_id='11', desc='Натуральное ультрапастеризованное молоко.', brand='Домашкино', price=75.3, min_store_temperature=0, max_store_temperature=18, shelf_life=90, type_of_packing='пакет', mass_fraction_of_fat_min=2.5, mass_fraction_of_fat_max=2.5), StuffDesc(stuff_id='12', desc='Натуральное ультрапастеризованное молоко.', brand='Домашкино', price=80.9, min_store_temperature=0, max_store_temperature=18, shelf_life=90, type_of_packing='пакет', mass_fraction_of_fat_min=3.2, mass_fraction_of_fat_max=3.2), StuffDesc(stuff_id='23', desc='Молоко цельное сгущенное с сахаром ТМ Глубокое...', brand='Глубокое', price=88.37, min_store_temperature=-18, max_store_temperature=-18, shelf_life=365, type_of_packing='пакет', mass_fraction_of_fat_min=-1.0, mass_fraction_of_fat_max=-1.0), StuffDesc(stuff_id='27', desc='Молоко Пестравка 3.2% фин-пак 924гр 12суток', brand='Пестравка', price=73.5, min_store_temperature=0, max_store_temperature=6, shelf_life=12, type_of_packing='пакет', mass_fraction_of_fat_min=3.2, mass_fraction_of_fat_max=3.2), StuffDesc(stuff_id='31', desc='О пользе коровьего молока еще с самого детства...', brand='Пестравка', price=71.3, min_store_temperature=0, max_store_temperature=6, shelf_life=12, type_of_packing='пакет', mass_fraction_of_fat_min=2.5, mass_fraction_of_fat_max=2.5), StuffDesc(stuff_id='37', desc='Ультрапастеризованное молоко — молоко длительного хранения.', brand='Пестравка', price=88.8, min_store_temperature=0, max_store_temperature=25, shelf_life=90, type_of_packing='пакет', mass_fraction_of_fat_min=3.2, mass_fraction_of_fat_max=3.2)]\n",
      "==================================\u001b[1m Ai Message \u001b[0m==================================\n",
      "\n",
      "Я нашел следующие варианты молока с жирностью до 3.9% в пакете и стоимостью меньше 100 рублей:\n",
      "\n",
      "1. Ультрапастеризованное молоко от бренда \"Лазовское\" за 99.1 рублей (жирность не указана).\n",
      "2. Ультрапастеризованное молоко от бренда \"Лазовское\" за 92.35 рублей (жирность не указана).\n",
      "3. Натуральное ультрапастеризованное молоко от бренда \"Домашкино\" за 75.3 рублей (жирность 2.5%).\n",
      "4. Молоко от бренда \"Пестравка\" за 71.3 рублей (жирность 2.5%).\n"
     ]
    }
   ],
   "source": [
    "answer(\"найди мне молоко с жирностью менее 3.9% в пакете дешевле 100 рублей\")"
   ]
  },
  {
   "cell_type": "code",
   "execution_count": 19,
   "metadata": {},
   "outputs": [
    {
     "name": "stdout",
     "output_type": "stream",
     "text": [
      "================================\u001b[1m Human Message \u001b[0m=================================\n",
      "\n",
      "Хочу заказать молоко не дороже 100руб, в бутылке. Какие есть варианты?\n",
      "==================================\u001b[1m Ai Message \u001b[0m==================================\n",
      "Tool Calls:\n",
      "  search_stuff (f3be2368-e172-480a-b52f-547e8eb672d7)\n",
      " Call ID: f3be2368-e172-480a-b52f-547e8eb672d7\n",
      "  Args:\n",
      "    max_price: 100\n",
      "    type_of_packing: пластиковая бутылка\n",
      "=================================\u001b[1m Tool Message \u001b[0m=================================\n",
      "Name: search_stuff\n",
      "\n",
      "[StuffDesc(stuff_id='18', desc='Натуральное молоко. изготовлено по ГОСТ. Без добавлений.', brand='Домашкино', price=85.8, min_store_temperature=0, max_store_temperature=6, shelf_life=20, type_of_packing='пластиковая бутылка', mass_fraction_of_fat_min=3.2, mass_fraction_of_fat_max=3.2), StuffDesc(stuff_id='21', desc='О пользе коровьего молока еще с самого детства...', brand='Пестравка', price=91.3, min_store_temperature=0, max_store_temperature=6, shelf_life=16, type_of_packing='пластиковая бутылка', mass_fraction_of_fat_min=2.5, mass_fraction_of_fat_max=2.5), StuffDesc(stuff_id='22', desc='О пользе коровьего молока еще с самого детства...', brand='Пестравка', price=94.7, min_store_temperature=0, max_store_temperature=6, shelf_life=16, type_of_packing='пластиковая бутылка', mass_fraction_of_fat_min=3.2, mass_fraction_of_fat_max=3.2), StuffDesc(stuff_id='24', desc='Пастеризованное молоко.', brand='Лазовское', price=99.5, min_store_temperature=2, max_store_temperature=4, shelf_life=10, type_of_packing='пластиковая бутылка', mass_fraction_of_fat_min=2.5, mass_fraction_of_fat_max=2.5), StuffDesc(stuff_id='25', desc='Натуральное молоко. изготовлено по ГОСТ. Без д...', brand='Домашкино', price=81.0, min_store_temperature=0, max_store_temperature=6, shelf_life=20, type_of_packing='пластиковая бутылка', mass_fraction_of_fat_min=2.5, mass_fraction_of_fat_max=2.5), StuffDesc(stuff_id='34', desc='Топлёное молоко – традиционный молочный продукт...', brand='Домашкино', price=81.9, min_store_temperature=0, max_store_temperature=6, shelf_life=10, type_of_packing='пластиковая бутылка', mass_fraction_of_fat_min=2.5, mass_fraction_of_fat_max=2.5)]\n",
      "==================================\u001b[1m Ai Message \u001b[0m==================================\n",
      "\n",
      "Вашему запросу соответствует более четырех товаров. Пожалуйста, уточните свой запрос.\n"
     ]
    }
   ],
   "source": [
    "answer(\"Хочу заказать молоко не дороже 100руб, в бутылке. Какие есть варианты?\")"
   ]
  },
  {
   "cell_type": "code",
   "execution_count": 20,
   "metadata": {},
   "outputs": [
    {
     "name": "stdout",
     "output_type": "stream",
     "text": [
      "================================\u001b[1m Human Message \u001b[0m=================================\n",
      "\n",
      "Покажи мне молоко, которое можно хранить без холодильника, жирностью менее 2% и дешевле 90 руб.\n",
      "==================================\u001b[1m Ai Message \u001b[0m==================================\n",
      "Tool Calls:\n",
      "  search_stuff (ebe88542-b694-4299-90a2-bfc53858ae3f)\n",
      " Call ID: ebe88542-b694-4299-90a2-bfc53858ae3f\n",
      "  Args:\n",
      "    mass_fraction_of_fat_max: 2\n",
      "    max_price: 90\n",
      "    min_store_temperature: 0\n",
      "=================================\u001b[1m Tool Message \u001b[0m=================================\n",
      "Name: search_stuff\n",
      "\n",
      "[StuffDesc(stuff_id='6', desc='Ультрапастеризованное молоко — молоко длительного хранения.', brand='Лазовское', price=74.7, min_store_temperature=2, max_store_temperature=25, shelf_life=180, type_of_packing='пакет', mass_fraction_of_fat_min=-1.0, mass_fraction_of_fat_max=-1.0)]\n",
      "==================================\u001b[1m Ai Message \u001b[0m==================================\n",
      "\n",
      "Вот подходящее молоко: Ультрапастеризованное молоко от бренда Лазовское за 74.7 рублей. Оно может храниться при температуре от 2 до 25 градусов в течение 180 дней.\n"
     ]
    }
   ],
   "source": [
    "answer(\"Покажи мне молоко, которое можно хранить без холодильника, жирностью менее 2% и дешевле 90 руб.\")"
   ]
  },
  {
   "cell_type": "code",
   "execution_count": 21,
   "metadata": {},
   "outputs": [
    {
     "name": "stdout",
     "output_type": "stream",
     "text": [
      "================================\u001b[1m Human Message \u001b[0m=================================\n",
      "\n",
      "Нужно молоко, которое можно храниться более 2 месяцев.\n",
      "==================================\u001b[1m Ai Message \u001b[0m==================================\n",
      "Tool Calls:\n",
      "  search_stuff (74f115ac-453d-4134-b6dd-cb16a12d74dc)\n",
      " Call ID: 74f115ac-453d-4134-b6dd-cb16a12d74dc\n",
      "  Args:\n",
      "    shelf_life: 60\n",
      "=================================\u001b[1m Tool Message \u001b[0m=================================\n",
      "Name: search_stuff\n",
      "\n",
      "[StuffDesc(stuff_id='2', desc='Ультрапастеризованное молоко — молоко длительного хранения.', brand='Лазовское', price=99.1, min_store_temperature=2, max_store_temperature=25, shelf_life=180, type_of_packing='пакет', mass_fraction_of_fat_min=-1.0, mass_fraction_of_fat_max=-1.0), StuffDesc(stuff_id='3', desc='Ультрапастеризованное молоко — молоко длительного хранения.', brand='Лазовское', price=92.35, min_store_temperature=2, max_store_temperature=25, shelf_life=180, type_of_packing='пакет', mass_fraction_of_fat_min=-1.0, mass_fraction_of_fat_max=-1.0), StuffDesc(stuff_id='5', desc='Ультрапастеризованное молоко топленое — молоко...', brand='Лазовское', price=111.55, min_store_temperature=2, max_store_temperature=25, shelf_life=180, type_of_packing='пакет', mass_fraction_of_fat_min=-1.0, mass_fraction_of_fat_max=-1.0), StuffDesc(stuff_id='6', desc='Ультрапастеризованное молоко — молоко длительного хранения.', brand='Лазовское', price=74.7, min_store_temperature=2, max_store_temperature=25, shelf_life=180, type_of_packing='пакет', mass_fraction_of_fat_min=-1.0, mass_fraction_of_fat_max=-1.0), StuffDesc(stuff_id='7', desc='Молоко сгущенное с сахаром ТМ Глубокое жир.8.5...', brand='Глубокое', price=102.79, min_store_temperature=2, max_store_temperature=4, shelf_life=550, type_of_packing='железная банка', mass_fraction_of_fat_min=8.5, mass_fraction_of_fat_max=8.5), StuffDesc(stuff_id='8', desc=\"Молоко цельное сгущенное с сахаром 'Пионерская...'\", brand='NaN', price=204.76, min_store_temperature=0, max_store_temperature=6, shelf_life=365, type_of_packing='коробка', mass_fraction_of_fat_min=-1.0, mass_fraction_of_fat_max=-1.0), StuffDesc(stuff_id='9', desc=\"Молоко сгущённое с сахаром 'Рогачев' жир.8.5%\", brand='Рогачев МК', price=111.94, min_store_temperature=0, max_store_temperature=6, shelf_life=549, type_of_packing='железная банка', mass_fraction_of_fat_min=8.5, mass_fraction_of_fat_max=8.5), StuffDesc(stuff_id='10', desc='Это молоко создано специально для мягкой и гла...', brand='MultiCook', price=101.9, min_store_temperature=0, max_store_temperature=18, shelf_life=180, type_of_packing='пакет', mass_fraction_of_fat_min=3.2, mass_fraction_of_fat_max=3.2), StuffDesc(stuff_id='11', desc='Натуральное ультрапастеризованное молоко.', brand='Домашкино', price=75.3, min_store_temperature=0, max_store_temperature=18, shelf_life=90, type_of_packing='пакет', mass_fraction_of_fat_min=2.5, mass_fraction_of_fat_max=2.5), StuffDesc(stuff_id='12', desc='Натуральное ультрапастеризованное молоко.', brand='Домашкино', price=80.9, min_store_temperature=0, max_store_temperature=18, shelf_life=90, type_of_packing='пакет', mass_fraction_of_fat_min=3.2, mass_fraction_of_fat_max=3.2)]\n",
      "==================================\u001b[1m Ai Message \u001b[0m==================================\n",
      "\n",
      "Вот некоторые варианты молока с длительным сроком хранения:\n",
      "\n",
      "1. Ультрапастеризованное молоко от бренда \"Лазовское\" (цена: 99.1)\n",
      "2. Молоко сгущенное с сахаром ТМ \"Глубокое\" (цена: 102.79)\n",
      "3. Молоко цельное сгущенное с сахаром \"Пионерская\" (цена: 204.76)\n",
      "4. Молоко сгущённое с сахаром \"Рогачев\" (цена: 111.94)\n",
      "\n",
      "Обратите внимание на условия хранения каждого продукта.\n"
     ]
    }
   ],
   "source": [
    "answer(\"Нужно молоко, которое можно храниться более 2 месяцев.\")"
   ]
  }
 ],
 "metadata": {
  "kernelspec": {
   "display_name": ".venv",
   "language": "python",
   "name": "python3"
  },
  "language_info": {
   "codemirror_mode": {
    "name": "ipython",
    "version": 3
   },
   "file_extension": ".py",
   "mimetype": "text/x-python",
   "name": "python",
   "nbconvert_exporter": "python",
   "pygments_lexer": "ipython3",
   "version": "3.12.5"
  }
 },
 "nbformat": 4,
 "nbformat_minor": 2
}
