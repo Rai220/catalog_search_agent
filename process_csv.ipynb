{
 "cells": [
  {
   "cell_type": "markdown",
   "metadata": {},
   "source": [
    "# Установка и настройка окружения"
   ]
  },
  {
   "cell_type": "code",
   "execution_count": 1,
   "metadata": {},
   "outputs": [
    {
     "name": "stdout",
     "output_type": "stream",
     "text": [
      "\n",
      "\u001b[1m[\u001b[0m\u001b[34;49mnotice\u001b[0m\u001b[1;39;49m]\u001b[0m\u001b[39;49m A new release of pip is available: \u001b[0m\u001b[31;49m24.2\u001b[0m\u001b[39;49m -> \u001b[0m\u001b[32;49m24.3.1\u001b[0m\n",
      "\u001b[1m[\u001b[0m\u001b[34;49mnotice\u001b[0m\u001b[1;39;49m]\u001b[0m\u001b[39;49m To update, run: \u001b[0m\u001b[32;49mpip install --upgrade pip\u001b[0m\n"
     ]
    }
   ],
   "source": [
    "!pip install langchain langchain_gigachat langchain_community langchain_openai pandas python_dotenv langgraph -q"
   ]
  },
  {
   "cell_type": "code",
   "execution_count": 22,
   "metadata": {},
   "outputs": [
    {
     "data": {
      "text/plain": [
       "True"
      ]
     },
     "execution_count": 22,
     "metadata": {},
     "output_type": "execute_result"
    }
   ],
   "source": [
    "# pip install python-dotenv\n",
    "from dotenv import find_dotenv, load_dotenv\n",
    "load_dotenv(find_dotenv())"
   ]
  },
  {
   "cell_type": "markdown",
   "metadata": {},
   "source": [
    "# Загружаем исходный каталог товаров"
   ]
  },
  {
   "cell_type": "code",
   "execution_count": 3,
   "metadata": {},
   "outputs": [
    {
     "name": "stdout",
     "output_type": "stream",
     "text": [
      "   №                                Наименование товара  Цена руб  \\\n",
      "0  1  Молоко восстановленное из сухого молока пастер...    105.00   \n",
      "1  2  Молоко восстановленное из сухого молока ультра...     99.10   \n",
      "2  3  Молоко восстановленное из сухого молока ультра...     92.35   \n",
      "3  4  Молоко восстановленное из сухого молока пастер...     56.75   \n",
      "4  5  Молоко питьевое ультрапастеризованное топленое...    111.55   \n",
      "\n",
      "  Торговая марка Режим хранения  Срок реализации. мес        Упаковка  \\\n",
      "0      Лазовская           2 +4                    10  пласт. Бутылка   \n",
      "1      Лазовское          2 +25                   180             ТФА   \n",
      "2      Лазовское          2 +25                   180             ТФА   \n",
      "3      Лазовское           2 +4                    10         Пюр-пак   \n",
      "4      Лазовское         2..+25                   180             ТФА   \n",
      "\n",
      "                                            Описание  \n",
      "0    Пастеризованное молоко. Массовая доля жира 3.2%  \n",
      "1  Ультрапастеризованное молоко — молоко длительн...  \n",
      "2  Ультрапастеризованное молоко — молоко длительн...  \n",
      "3    Пастеризованное молоко. Массовая доля жира 3.2%  \n",
      "4  Ультрапастеризованное молоко топленое — молоко...  \n"
     ]
    }
   ],
   "source": [
    "import pandas as pd\n",
    "\n",
    "# Load the CSV file into a DataFrame with ';' as the separator\n",
    "stuff_catalogue_df = pd.read_csv('stuff_catalogue.csv', sep=';')\n",
    "print(stuff_catalogue_df.head())"
   ]
  },
  {
   "cell_type": "markdown",
   "metadata": {},
   "source": [
    "# Инициализируем подключение к GigaChat"
   ]
  },
  {
   "cell_type": "code",
   "execution_count": 10,
   "metadata": {},
   "outputs": [],
   "source": [
    "from typing import List, Literal\n",
    "\n",
    "from langchain.prompts import ChatPromptTemplate\n",
    "from langchain_core.output_parsers import PydanticOutputParser\n",
    "from langchain_gigachat import GigaChat\n",
    "from pydantic import BaseModel, Field\n",
    "from tenacity import retry, stop_after_attempt"
   ]
  },
  {
   "cell_type": "code",
   "execution_count": 26,
   "metadata": {},
   "outputs": [
    {
     "data": {
      "text/plain": [
       "'Здравствуйте! Рад вас видеть. Как я могу вам помочь?'"
      ]
     },
     "execution_count": 26,
     "metadata": {},
     "output_type": "execute_result"
    }
   ],
   "source": [
    "giga = GigaChat(model=\"GigaChat-Max\", profanity_check=False, verify_ssl_certs=False)\n",
    "giga.invoke(\"Привет!\").content"
   ]
  },
  {
   "cell_type": "markdown",
   "metadata": {},
   "source": [
    "# Создаем цепочку для извлечения структурированных данных"
   ]
  },
  {
   "cell_type": "code",
   "execution_count": 27,
   "metadata": {},
   "outputs": [],
   "source": [
    "# Описание структуры данных, которую будем извлекать из каждой строчки csv\n",
    "from stuff_utils import StuffDesc"
   ]
  },
  {
   "cell_type": "markdown",
   "metadata": {},
   "source": [
    "Здесь эксперты должны сообщить модели свои экспертные знания"
   ]
  },
  {
   "cell_type": "code",
   "execution_count": 28,
   "metadata": {},
   "outputs": [],
   "source": [
    "STUFF_EXTRACTION_PROMPT = \"\"\"Ты - агент-товаровед, который занимается систематизацией базы данных товаров.\n",
    "Ты должен изучить описание товары и извлечь из него информацию согласно требуемой схеме в JSON.\n",
    "Если каких-то данных не хватает, пиши n/a для строк и -1 для чисел.\n",
    "\n",
    "ТФА, ТБА, фин-пак, дой-пак и т.д. это пакет. ж/б - железная банка. п/б - пластиковая бутылка. ст/б - стеклянная бутылка\n",
    "Если данных о минимальной и максимальной температуре нет, а она задана явно - пиши одинаковое число для минимума и максимума. Тоже с жирностью.\n",
    "Если тип упаковки не попадает ни в одной из категорий - выбирай \"другое\"\n",
    "Если поле NaN или не указана, пиши n/a для текстовых полей и -1 для числовых.\n",
    "\n",
    "Вот описание товара, которое тебе дано:\n",
    "<STUFF_INFO>\n",
    "{stuff_info}\n",
    "</STUFF_INFO>\n",
    "\n",
    "Выведи только следующую информацию в формате JSON. Не окружай ответ тегами ```json ...```:\n",
    "{format_instructions}\n",
    "\"\"\"\n",
    "\n",
    "@retry(stop=stop_after_attempt(3))\n",
    "def extract_info(stuff_info: str) -> StuffDesc:\n",
    "    parser = PydanticOutputParser(pydantic_object=StuffDesc)\n",
    "    prompt = ChatPromptTemplate.from_messages([\n",
    "        (\"system\", STUFF_EXTRACTION_PROMPT)\n",
    "    ]).partial(format_instructions=parser.get_format_instructions())\n",
    "    \n",
    "    chain = prompt | giga | parser\n",
    "\n",
    "    return chain.invoke(\n",
    "        {\n",
    "            \"stuff_info\": stuff_info,\n",
    "        }\n",
    "    )\n"
   ]
  },
  {
   "cell_type": "markdown",
   "metadata": {},
   "source": [
    "# Извлекаем структурированый объект из каждой строки таблицы"
   ]
  },
  {
   "cell_type": "code",
   "execution_count": 29,
   "metadata": {},
   "outputs": [
    {
     "name": "stdout",
     "output_type": "stream",
     "text": [
      "stuff_id='1' desc='Пастеризованное молоко. Массовая доля жира 3.2%' brand='Лазовская' price=105.0 min_store_temperature=2 max_store_temperature=4 shelf_life=10 type_of_packing='пластиковая бутылка' mass_fraction_of_fat_min=3.2 mass_fraction_of_fat_max=3.2\n",
      "stuff_id='2' desc='Ультрапастеризованное молоко — молоко длительного хранения.' brand='Лазовское' price=99.1 min_store_temperature=2 max_store_temperature=25 shelf_life=180 type_of_packing='пакет' mass_fraction_of_fat_min=-1.0 mass_fraction_of_fat_max=-1.0\n",
      "stuff_id='3' desc='Ультрапастеризованное молоко — молоко длительного хранения.' brand='Лазовское' price=92.35 min_store_temperature=2 max_store_temperature=25 shelf_life=180 type_of_packing='пакет' mass_fraction_of_fat_min=-1.0 mass_fraction_of_fat_max=-1.0\n",
      "stuff_id='4' desc='Пастеризованное молоко.' brand='Лазовское' price=56.75 min_store_temperature=2 max_store_temperature=4 shelf_life=10 type_of_packing='пакет' mass_fraction_of_fat_min=3.2 mass_fraction_of_fat_max=3.2\n",
      "stuff_id='5' desc='Ультрапастеризованное молоко топленое — молоко...' brand='Лазовское' price=111.55 min_store_temperature=2 max_store_temperature=25 shelf_life=180 type_of_packing='пакет' mass_fraction_of_fat_min=-1.0 mass_fraction_of_fat_max=-1.0\n",
      "stuff_id='6' desc='Ультрапастеризованное молоко — молоко длительного хранения.' brand='Лазовское' price=74.7 min_store_temperature=2 max_store_temperature=25 shelf_life=180 type_of_packing='пакет' mass_fraction_of_fat_min=-1.0 mass_fraction_of_fat_max=-1.0\n",
      "stuff_id='7' desc='Молоко сгущенное с сахаром ТМ Глубокое жир.8.5...' brand='Глубокое' price=102.79 min_store_temperature=2 max_store_temperature=4 shelf_life=550 type_of_packing='железная банка' mass_fraction_of_fat_min=8.5 mass_fraction_of_fat_max=8.5\n",
      "stuff_id='8' desc=\"Молоко цельное сгущенное с сахаром 'Пионерская...'\" brand='NaN' price=204.76 min_store_temperature=0 max_store_temperature=6 shelf_life=365 type_of_packing='коробка' mass_fraction_of_fat_min=-1.0 mass_fraction_of_fat_max=-1.0\n",
      "stuff_id='9' desc=\"Молоко сгущённое с сахаром 'Рогачев' жир.8.5%\" brand='Рогачев МК' price=111.94 min_store_temperature=0 max_store_temperature=6 shelf_life=549 type_of_packing='железная банка' mass_fraction_of_fat_min=8.5 mass_fraction_of_fat_max=8.5\n",
      "stuff_id='10' desc='Это молоко создано специально для мягкой и гла...' brand='MultiCook' price=101.9 min_store_temperature=0 max_store_temperature=18 shelf_life=180 type_of_packing='пакет' mass_fraction_of_fat_min=3.2 mass_fraction_of_fat_max=3.2\n",
      "stuff_id='11' desc='Натуральное ультрапастеризованное молоко.' brand='Домашкино' price=75.3 min_store_temperature=0 max_store_temperature=18 shelf_life=90 type_of_packing='пакет' mass_fraction_of_fat_min=2.5 mass_fraction_of_fat_max=2.5\n",
      "stuff_id='12' desc='Натуральное ультрапастеризованное молоко.' brand='Домашкино' price=80.9 min_store_temperature=0 max_store_temperature=18 shelf_life=90 type_of_packing='пакет' mass_fraction_of_fat_min=3.2 mass_fraction_of_fat_max=3.2\n",
      "stuff_id='13' desc='Сгущенное молоко укрепляет иммунную систему.' brand='Домашкино' price=94.35 min_store_temperature=0 max_store_temperature=6 shelf_life=320 type_of_packing='алюминиевая банка' mass_fraction_of_fat_min=-1.0 mass_fraction_of_fat_max=-1.0\n",
      "stuff_id='14' desc=\"Молоко ультрапастеризованное 'Хорошее дело' 3....\" brand='Хорошее дело' price=100.43 min_store_temperature=2 max_store_temperature=25 shelf_life=270 type_of_packing='коробка' mass_fraction_of_fat_min=3.2 mass_fraction_of_fat_max=3.2\n",
      "stuff_id='15' desc='Молоко нормализованное с м.д.ж. 3.2%' brand='Домик в деревне' price=130.4 min_store_temperature=2 max_store_temperature=25 shelf_life=365 type_of_packing='пакет' mass_fraction_of_fat_min=3.2 mass_fraction_of_fat_max=3.2\n",
      "stuff_id='16' desc='Топлёное молоко - исконно русский молочный продукт...' brand='Пестравка' price=92.9 min_store_temperature=0 max_store_temperature=25 shelf_life=90 type_of_packing='пакет' mass_fraction_of_fat_min=4.0 mass_fraction_of_fat_max=4.0\n",
      "stuff_id='17' desc=\"Молоко цельное сгущенное с сахаром 'Пионерская...'\" brand='NaN' price=90.85 min_store_temperature=0 max_store_temperature=21 shelf_life=365 type_of_packing='коробка' mass_fraction_of_fat_min=-1.0 mass_fraction_of_fat_max=-1.0\n",
      "stuff_id='18' desc='Натуральное молоко. изготовлено по ГОСТ. Без добавлений.' brand='Домашкино' price=85.8 min_store_temperature=0 max_store_temperature=6 shelf_life=20 type_of_packing='пластиковая бутылка' mass_fraction_of_fat_min=3.2 mass_fraction_of_fat_max=3.2\n",
      "stuff_id='19' desc='Топлёное молоко - исконно русский молочный продукт...' brand='Домашкино' price=84.3 min_store_temperature=0 max_store_temperature=18 shelf_life=90 type_of_packing='пакет' mass_fraction_of_fat_min=4.0 mass_fraction_of_fat_max=4.0\n",
      "stuff_id='20' desc='Сгущенное молоко - универсальное лакомство.' brand='Домашкино' price=316.99 min_store_temperature=0 max_store_temperature=21 shelf_life=180 type_of_packing='пластиковая бутылка' mass_fraction_of_fat_min=-1.0 mass_fraction_of_fat_max=-1.0\n",
      "stuff_id='21' desc='О пользе коровьего молока еще с самого детства...' brand='Пестравка' price=91.3 min_store_temperature=0 max_store_temperature=6 shelf_life=16 type_of_packing='пластиковая бутылка' mass_fraction_of_fat_min=2.5 mass_fraction_of_fat_max=2.5\n",
      "stuff_id='22' desc='О пользе коровьего молока еще с самого детства...' brand='Пестравка' price=94.7 min_store_temperature=0 max_store_temperature=6 shelf_life=16 type_of_packing='пластиковая бутылка' mass_fraction_of_fat_min=3.2 mass_fraction_of_fat_max=3.2\n",
      "stuff_id='23' desc='Молоко цельное сгущенное с сахаром ТМ Глубокое...' brand='Глубокое' price=88.37 min_store_temperature=-18 max_store_temperature=-18 shelf_life=365 type_of_packing='пакет' mass_fraction_of_fat_min=-1.0 mass_fraction_of_fat_max=-1.0\n",
      "stuff_id='24' desc='Пастеризованное молоко.' brand='Лазовское' price=99.5 min_store_temperature=2 max_store_temperature=4 shelf_life=10 type_of_packing='пластиковая бутылка' mass_fraction_of_fat_min=2.5 mass_fraction_of_fat_max=2.5\n",
      "stuff_id='25' desc='Натуральное молоко. изготовлено по ГОСТ. Без д...' brand='Домашкино' price=81.0 min_store_temperature=0 max_store_temperature=6 shelf_life=20 type_of_packing='пластиковая бутылка' mass_fraction_of_fat_min=2.5 mass_fraction_of_fat_max=2.5\n",
      "stuff_id='27' desc='Молоко Пестравка 3.2% фин-пак 924гр 12суток' brand='Пестравка' price=73.5 min_store_temperature=0 max_store_temperature=6 shelf_life=12 type_of_packing='пакет' mass_fraction_of_fat_min=3.2 mass_fraction_of_fat_max=3.2\n",
      "stuff_id='28' desc='Молоко сгущенное Село Домашкино с сахаром Варе...' brand='Домашкино' price=151.22 min_store_temperature=0 max_store_temperature=21 shelf_life=180 type_of_packing='алюминиевая банка' mass_fraction_of_fat_min=-1.0 mass_fraction_of_fat_max=-1.0\n",
      "stuff_id='29' desc='Молоко пастеризованное 3.2%. Новинка от ТМ Пестравка.' brand='Пестравка' price=186.5 min_store_temperature=2 max_store_temperature=4 shelf_life=16 type_of_packing='пластиковая бутылка' mass_fraction_of_fat_min=3.2 mass_fraction_of_fat_max=3.2\n",
      "stuff_id='30' desc='Молоко Деревенское ДВД Пастеризованное Отборное' brand='PepsiCo' price=150.96 min_store_temperature=0 max_store_temperature=21 shelf_life=16 type_of_packing='пластиковая бутылка' mass_fraction_of_fat_min=-1.0 mass_fraction_of_fat_max=-1.0\n",
      "stuff_id='31' desc='О пользе коровьего молока еще с самого детства...' brand='Пестравка' price=71.3 min_store_temperature=0 max_store_temperature=6 shelf_life=12 type_of_packing='пакет' mass_fraction_of_fat_min=2.5 mass_fraction_of_fat_max=2.5\n",
      "stuff_id='32' desc='Сгущенное молоко укрепляет иммунную систему.' brand='Домашкино' price=85.9 min_store_temperature=0 max_store_temperature=21 shelf_life=12 type_of_packing='пакет' mass_fraction_of_fat_min=8.5 mass_fraction_of_fat_max=8.5\n",
      "stuff_id='33' desc='Отборное молоко - это молоко высшего качества....' brand='Пестравка' price=161.1 min_store_temperature=0 max_store_temperature=6 shelf_life=16 type_of_packing='пластиковая бутылка' mass_fraction_of_fat_min=3.4 mass_fraction_of_fat_max=6.0\n",
      "stuff_id='34' desc='Топлёное молоко – традиционный молочный продукт...' brand='Домашкино' price=81.9 min_store_temperature=0 max_store_temperature=6 shelf_life=10 type_of_packing='пластиковая бутылка' mass_fraction_of_fat_min=2.5 mass_fraction_of_fat_max=2.5\n",
      "stuff_id='35' desc='Молоко нормализованное с м.д.ж. 3.2%' brand='PepsiCo' price=155.69 min_store_temperature=2 max_store_temperature=25 shelf_life=365 type_of_packing='пакет' mass_fraction_of_fat_min=3.2 mass_fraction_of_fat_max=3.2\n",
      "stuff_id='36' desc='Молоко Parmalat Brick ультрапастеризованное 3....' brand='Parmalat' price=106.61 min_store_temperature=0 max_store_temperature=18 shelf_life=270 type_of_packing='пакет' mass_fraction_of_fat_min=3.0 mass_fraction_of_fat_max=3.0\n",
      "stuff_id='37' desc='Ультрапастеризованное молоко — молоко длительного хранения.' brand='Пестравка' price=88.8 min_store_temperature=0 max_store_temperature=25 shelf_life=90 type_of_packing='пакет' mass_fraction_of_fat_min=3.2 mass_fraction_of_fat_max=3.2\n",
      "stuff_id='38' desc='Молоко ДВД Отборное пастеризованное 3.2% 1.4 л...' brand='Домик в деревне' price=221.88 min_store_temperature=0 max_store_temperature=21 shelf_life=15 type_of_packing='пластиковая бутылка' mass_fraction_of_fat_min=3.2 mass_fraction_of_fat_max=3.2\n",
      "stuff_id='39' desc='О пользе коровьего...' brand='Пестравка' price=65.3 min_store_temperature=0 max_store_temperature=6 shelf_life=12 type_of_packing='пакет' mass_fraction_of_fat_min=3.2 mass_fraction_of_fat_max=3.2\n",
      "stuff_id='40' desc='Молоко Parmalat Edge ультрапастеризованное 3...' brand='Parmalat' price=121.03 min_store_temperature=0 max_store_temperature=18 shelf_life=270 type_of_packing='пакет' mass_fraction_of_fat_min=-1.0 mass_fraction_of_fat_max=-1.0\n",
      "stuff_id='41' desc='Отборное молоко - это молоко высшего качества....' brand='Лазовское' price=118.9 min_store_temperature=2 max_store_temperature=6 shelf_life=10 type_of_packing='пластиковая бутылка' mass_fraction_of_fat_min=-1.0 mass_fraction_of_fat_max=-1.0\n",
      "stuff_id='42' desc='Молоко нормализованное с м.д.ж. 3.5%' brand='Домик в деревне' price=164.1 min_store_temperature=2 max_store_temperature=25 shelf_life=365 type_of_packing='пакет' mass_fraction_of_fat_min=3.5 mass_fraction_of_fat_max=3.5\n",
      "stuff_id='43' desc='Молоко Добрая Буренка ультрапастеризованное 2....' brand='Добрая Буренка' price=104.63 min_store_temperature=2 max_store_temperature=6 shelf_life=9 type_of_packing='пакет' mass_fraction_of_fat_min=-1.0 mass_fraction_of_fat_max=-1.0\n",
      "stuff_id='44' desc='Молоко питьевое стерилизованное обогащенное витаминами' brand='Агуша' price=50.59 min_store_temperature=0 max_store_temperature=25 shelf_life=180 type_of_packing='пакет' mass_fraction_of_fat_min=2.5 mass_fraction_of_fat_max=2.5\n",
      "stuff_id='45' desc='Молоко Добрая Буренка ультрапастеризованное 3....' brand='Добрая Буренка' price=107.38 min_store_temperature=2 max_store_temperature=25 shelf_life=9 type_of_packing='пакет' mass_fraction_of_fat_min=3.0 mass_fraction_of_fat_max=3.0\n",
      "stuff_id='46' desc='Молоко нормализованное с м.д.ж. 2.5%' brand='Домик в деревне' price=148.19 min_store_temperature=2 max_store_temperature=25 shelf_life=365 type_of_packing='пакет' mass_fraction_of_fat_min=2.5 mass_fraction_of_fat_max=2.5\n",
      "stuff_id='47' desc='Пастеризованное молоко.' brand='Лазовское' price=109.15 min_store_temperature=2 max_store_temperature=4 shelf_life=10 type_of_packing='пакет' mass_fraction_of_fat_min=3.2 mass_fraction_of_fat_max=3.2\n",
      "stuff_id='48' desc='Ультрапастеризованное молоко сохраняет все пол...' brand='Пестравка' price=83.1 min_store_temperature=0 max_store_temperature=25 shelf_life=90 type_of_packing='пакет' mass_fraction_of_fat_min=2.5 mass_fraction_of_fat_max=2.5\n",
      "Error: RetryError[<Future at 0x120db11c0 state=finished raised OutputParserException>]\n",
      "Can't parse row:  №                                                                      49\n",
      "Наименование товара                               Молоко Агуша 3.2% 925мл\n",
      "Цена руб                                                           154.65\n",
      "Торговая марка                                                      Агуша\n",
      "Режим хранения                                               0°С до +25°С\n",
      "Срок реализации. мес                                                  180\n",
      "Упаковка                                                              ТБА\n",
      "Описание                Молоко стерилизованное.для детского питания. Д...\n",
      "Name: 47, dtype: object\n",
      "stuff_id='50' desc='Пастеризованное молоко.' brand='Лазовское' price=51.1 min_store_temperature=2 max_store_temperature=4 shelf_life=7 type_of_packing='пакет' mass_fraction_of_fat_min=3.2 mass_fraction_of_fat_max=3.2\n"
     ]
    }
   ],
   "source": [
    "stuff_desc_list = []\n",
    "\n",
    "for index, row in stuff_catalogue_df.iterrows():\n",
    "    try:\n",
    "        # print(str(row))\n",
    "        stuff_desc = extract_info(str(row))\n",
    "        stuff_desc_list.append(stuff_desc)\n",
    "        print(stuff_desc)\n",
    "    except Exception as e:\n",
    "        print(\"Error:\", e)\n",
    "        print(\"Can't parse row: \", row)"
   ]
  },
  {
   "cell_type": "markdown",
   "metadata": {},
   "source": [
    "# Сохраняем полученные результаты в файл"
   ]
  },
  {
   "cell_type": "code",
   "execution_count": 30,
   "metadata": {},
   "outputs": [
    {
     "data": {
      "text/plain": [
       "48"
      ]
     },
     "execution_count": 30,
     "metadata": {},
     "output_type": "execute_result"
    }
   ],
   "source": [
    "len(stuff_desc_list)"
   ]
  },
  {
   "cell_type": "code",
   "execution_count": 31,
   "metadata": {},
   "outputs": [
    {
     "name": "stderr",
     "output_type": "stream",
     "text": [
      "/var/folders/1m/7jmnmlbs2hsbw3qkcx46f0l86hy6kp/T/ipykernel_57761/1720473458.py:5: PydanticDeprecatedSince20: The `dict` method is deprecated; use `model_dump` instead. Deprecated in Pydantic V2.0 to be removed in V3.0. See Pydantic V2 Migration Guide at https://errors.pydantic.dev/2.10/migration/\n",
      "  json.dump([stuff_desc.dict() for stuff_desc in stuff_desc_list], f, indent=4, ensure_ascii=False)\n"
     ]
    }
   ],
   "source": [
    "# Save stuff_desc_list to JSON\n",
    "import json\n",
    "\n",
    "with open('stuff_desc_list.json', 'w') as f:\n",
    "    json.dump([stuff_desc.dict() for stuff_desc in stuff_desc_list], f, indent=4, ensure_ascii=False)"
   ]
  }
 ],
 "metadata": {
  "kernelspec": {
   "display_name": ".venv",
   "language": "python",
   "name": "python3"
  },
  "language_info": {
   "codemirror_mode": {
    "name": "ipython",
    "version": 3
   },
   "file_extension": ".py",
   "mimetype": "text/x-python",
   "name": "python",
   "nbconvert_exporter": "python",
   "pygments_lexer": "ipython3",
   "version": "3.12.5"
  }
 },
 "nbformat": 4,
 "nbformat_minor": 2
}
